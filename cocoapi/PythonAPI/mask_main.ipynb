{
 "cells": [
  {
   "cell_type": "code",
   "execution_count": 2,
   "metadata": {},
   "outputs": [],
   "source": [
    "import tensorflow as  tf"
   ]
  },
  {
   "cell_type": "code",
   "execution_count": 3,
   "metadata": {},
   "outputs": [
    {
     "data": {
      "text/plain": [
       "'1.5.0'"
      ]
     },
     "execution_count": 3,
     "metadata": {},
     "output_type": "execute_result"
    }
   ],
   "source": [
    "tf.__version__"
   ]
  },
  {
   "cell_type": "code",
   "execution_count": 4,
   "metadata": {},
   "outputs": [],
   "source": [
    "import keras"
   ]
  },
  {
   "cell_type": "code",
   "execution_count": 5,
   "metadata": {},
   "outputs": [
    {
     "data": {
      "text/plain": [
       "'2.1.5'"
      ]
     },
     "execution_count": 5,
     "metadata": {},
     "output_type": "execute_result"
    }
   ],
   "source": [
    "keras.__version__"
   ]
  },
  {
   "cell_type": "code",
   "execution_count": 1,
   "metadata": {},
   "outputs": [
    {
     "name": "stderr",
     "output_type": "stream",
     "text": [
      "Using TensorFlow backend.\n",
      "Traceback (most recent call last):\n",
      "  File \"C:\\\\Users\\\\123\\\\Desktop\\\\Mask_RCNN\\\\samples\\\\balloon\\\\balloon.py\", line 44, in <module>\n",
      "    from cocoapi.PythonAPI.pycocotools.coco import COCO\n",
      "  File \"C:\\Users\\123\\Desktop\\Mask_RCNN\\cocoapi\\PythonAPI\\pycocotools\\coco.py\", line 55, in <module>\n",
      "    from . import mask as maskUtils\n",
      "  File \"C:\\Users\\123\\Desktop\\Mask_RCNN\\cocoapi\\PythonAPI\\pycocotools\\mask.py\", line 3, in <module>\n",
      "    import pycocotools._mask as _mask\n",
      "ModuleNotFoundError: No module named 'pycocotools'\n"
     ]
    }
   ],
   "source": [
    "!python C:\\\\Users\\\\123\\\\Desktop\\\\Mask_RCNN\\\\samples\\\\balloon\\\\balloon.py train --weights=coco"
   ]
  },
  {
   "cell_type": "code",
   "execution_count": null,
   "metadata": {},
   "outputs": [],
   "source": []
  }
 ],
 "metadata": {
  "kernelspec": {
   "display_name": "[mask10]",
   "language": "python",
   "name": "mask10"
  },
  "language_info": {
   "codemirror_mode": {
    "name": "ipython",
    "version": 3
   },
   "file_extension": ".py",
   "mimetype": "text/x-python",
   "name": "python",
   "nbconvert_exporter": "python",
   "pygments_lexer": "ipython3",
   "version": "3.6.9"
  }
 },
 "nbformat": 4,
 "nbformat_minor": 4
}
